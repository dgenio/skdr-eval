{
 "cells": [
  {
   "cell_type": "markdown",
   "metadata": {},
   "source": [
    "# Advanced Evaluation with skdr-eval\n",
    "\n",
    "This notebook demonstrates advanced usage patterns for offline policy evaluation using skdr-eval."
   ]
  },
  {
   "cell_type": "code",
   "execution_count": null,
   "metadata": {},
   "source": [
    "import numpy as np\n",
    "import pandas as pd\n",
    "import matplotlib.pyplot as plt\n",
    "from sklearn.ensemble import RandomForestRegressor, HistGradientBoostingRegressor\n",
    "from sklearn.linear_model import LinearRegression\n",
    "import skdr_eval"
   ]
  },
  {
   "cell_type": "markdown",
   "metadata": {},
   "source": [
    "## 1. Generate Synthetic Data with Custom Parameters"
   ]
  },
  {
   "cell_type": "code",
   "execution_count": null,
   "metadata": {},
   "source": [
    "# Generate larger dataset with more operators\n",
    "logs, ops_all, true_q = skdr_eval.make_synth_logs(\n",
    "    n=10000, \n",
    "    n_ops=8, \n",
    "    seed=42\n",
    ")\n",
    "\n",
    "print(f\"Dataset size: {len(logs)}\")\n",
    "print(f\"Operators: {list(ops_all)}\")\n",
    "print(f\"Time range: {logs['timestamp'].min()} to {logs['timestamp'].max()}\")"
   ]
  },
  {
   "cell_type": "markdown",
   "metadata": {},
   "source": [
    "## 2. Compare Multiple Model Types"
   ]
  },
  {
   "cell_type": "code",
   "execution_count": null,
   "metadata": {},
   "source": [
    "models = {\n",
    "    \"RandomForest\": RandomForestRegressor(n_estimators=200, max_depth=15, random_state=42),\n",
    "    \"HistGradientBoosting\": HistGradientBoostingRegressor(max_iter=200, max_depth=8, random_state=42),\n",
    "    \"LinearRegression\": LinearRegression(),\n",
    "}\n",
    "\n",
    "# Evaluate with more splits for robust estimates\n",
    "report, detailed_results = skdr_eval.evaluate_sklearn_models(\n",
    "    logs=logs,\n",
    "    models=models,\n",
    "    fit_models=True,\n",
    "    n_splits=5,\n",
    "    outcome_estimator=\"hgb\",\n",
    "    random_state=42,\n",
    "    policy_train=\"pre_split\",\n",
    "    policy_train_frac=0.8,\n",
    ")\n",
    "\n",
    "print(\"\\nEvaluation Results:\")\n",
    "print(report)"
   ]
  },
  {
   "cell_type": "markdown",
   "metadata": {},
   "source": [
    "## 3. Visualize Results"
   ]
  },
  {
   "cell_type": "code",
   "execution_count": null,
   "metadata": {},
   "source": [
    "# Create comparison plot\n",
    "fig, (ax1, ax2) = plt.subplots(1, 2, figsize=(15, 6))\n",
    "\n",
    "# DR vs SNDR comparison\n",
    "models_list = report['model'].tolist()\n",
    "dr_values = report['dr_value'].tolist()\n",
    "sndr_values = report['sndr_value'].tolist()\n",
    "\n",
    "x = np.arange(len(models_list))\n",
    "width = 0.35\n",
    "\n",
    "ax1.bar(x - width/2, dr_values, width, label='DR', alpha=0.8)\n",
    "ax1.bar(x + width/2, sndr_values, width, label='SNDR', alpha=0.8)\n",
    "ax1.set_xlabel('Models')\n",
    "ax1.set_ylabel('Estimated Value')\n",
    "ax1.set_title('DR vs SNDR Estimates')\n",
    "ax1.set_xticks(x)\n",
    "ax1.set_xticklabels(models_list, rotation=45)\n",
    "ax1.legend()\n",
    "ax1.grid(True, alpha=0.3)\n",
    "\n",
    "# Confidence intervals\n",
    "dr_ci_lower = report['dr_ci_lower'].tolist()\n",
    "dr_ci_upper = report['dr_ci_upper'].tolist()\n",
    "dr_errors = [np.array(dr_values) - np.array(dr_ci_lower), \n",
    "             np.array(dr_ci_upper) - np.array(dr_values)]\n",
    "\n",
    "ax2.errorbar(models_list, dr_values, yerr=dr_errors, fmt='o', capsize=5, capthick=2)\n",
    "ax2.set_xlabel('Models')\n",
    "ax2.set_ylabel('DR Estimate')\n",
    "ax2.set_title('DR Estimates with 95% Confidence Intervals')\n",
    "ax2.tick_params(axis='x', rotation=45)\n",
    "ax2.grid(True, alpha=0.3)\n",
    "\n",
    "plt.tight_layout()\n",
    "plt.show()"
   ]
  }
 ],
 "metadata": {
  "kernelspec": {
   "display_name": "Python 3",
   "language": "python",
   "name": "python3"
  },
  "language_info": {
   "codemirror_mode": {
    "name": "ipython",
    "version": 3
   },
   "file_extension": ".py",
   "mimetype": "text/x-python",
   "name": "python",
   "nbconvert_exporter": "python",
   "pygments_lexer": "ipython3",
   "version": "3.11.0"
  }
 },
 "nbformat": 4,
 "nbformat_minor": 4
}
